{
 "cells": [
  {
   "cell_type": "code",
   "execution_count": 19,
   "metadata": {},
   "outputs": [],
   "source": [
    "import os\n",
    "os.environ[\"CUDA_VISIBLE_DEVICES\"] = \"1\""
   ]
  },
  {
   "cell_type": "code",
   "execution_count": 20,
   "metadata": {},
   "outputs": [],
   "source": [
    "import itertools\n",
    "import argparse\n",
    "import torch\n",
    "import torch.nn as nn\n",
    "import torch.nn.functional as F\n",
    "import time\n",
    "import torchvision\n",
    "import torch.optim as optim\n",
    "from torchvision import datasets, transforms\n",
    "from pgd_attack import pgd_attack, margin_loss, TransferPGD\n",
    "from models import ResNet18, WideResNet28, ResNet34, WideResNet34\n",
    "from tqdm import tqdm, trange\n",
    "from model import get_model_for_attack\n",
    "\n",
    "from attack_main import eval_model_pgd, eval_model_with_attack\n",
    "from utils import prepare_cifar, Logger, check_mkdir\n",
    "from eval_model import eval_model, eval_model_pgd"
   ]
  },
  {
   "cell_type": "code",
   "execution_count": 3,
   "metadata": {},
   "outputs": [],
   "source": [
    "import matplotlib.pyplot as plt"
   ]
  },
  {
   "cell_type": "code",
   "execution_count": 4,
   "metadata": {},
   "outputs": [
    {
     "data": {
      "text/plain": [
       "<torch._C.Generator at 0x7fc98c04f630>"
      ]
     },
     "execution_count": 4,
     "metadata": {},
     "output_type": "execute_result"
    }
   ],
   "source": [
    "torch.manual_seed(0)"
   ]
  },
  {
   "cell_type": "code",
   "execution_count": 5,
   "metadata": {},
   "outputs": [],
   "source": [
    "def get_train_data():\n",
    "    trainset_org = torchvision.datasets.CIFAR10(\n",
    "        root='./data', train=True, download=True,\n",
    "        transform=transforms.ToTensor()\n",
    "    )\n",
    "    loader_org = torch.utils.data.DataLoader(trainset_org, 10)\n",
    "    return itertools.chain(loader_org)"
   ]
  },
  {
   "cell_type": "code",
   "execution_count": 6,
   "metadata": {},
   "outputs": [
    {
     "name": "stdout",
     "output_type": "stream",
     "text": [
      "Files already downloaded and verified\n"
     ]
    }
   ],
   "source": [
    "dataset = get_train_data()"
   ]
  },
  {
   "cell_type": "code",
   "execution_count": 7,
   "metadata": {},
   "outputs": [
    {
     "data": {
      "text/plain": [
       "WideResNet(\n",
       "  (conv1): Conv2d(3, 16, kernel_size=(3, 3), stride=(1, 1), padding=(1, 1), bias=False)\n",
       "  (block1): NetworkBlock(\n",
       "    (layer): Sequential(\n",
       "      (0): BasicBlock(\n",
       "        (bn1): BatchNorm2d(16, eps=1e-05, momentum=0.1, affine=True, track_running_stats=True)\n",
       "        (relu1): ReLU(inplace=True)\n",
       "        (conv1): Conv2d(16, 160, kernel_size=(3, 3), stride=(1, 1), padding=(1, 1), bias=False)\n",
       "        (bn2): BatchNorm2d(160, eps=1e-05, momentum=0.1, affine=True, track_running_stats=True)\n",
       "        (relu2): ReLU(inplace=True)\n",
       "        (conv2): Conv2d(160, 160, kernel_size=(3, 3), stride=(1, 1), padding=(1, 1), bias=False)\n",
       "        (convShortcut): Conv2d(16, 160, kernel_size=(1, 1), stride=(1, 1), bias=False)\n",
       "      )\n",
       "      (1): BasicBlock(\n",
       "        (bn1): BatchNorm2d(160, eps=1e-05, momentum=0.1, affine=True, track_running_stats=True)\n",
       "        (relu1): ReLU(inplace=True)\n",
       "        (conv1): Conv2d(160, 160, kernel_size=(3, 3), stride=(1, 1), padding=(1, 1), bias=False)\n",
       "        (bn2): BatchNorm2d(160, eps=1e-05, momentum=0.1, affine=True, track_running_stats=True)\n",
       "        (relu2): ReLU(inplace=True)\n",
       "        (conv2): Conv2d(160, 160, kernel_size=(3, 3), stride=(1, 1), padding=(1, 1), bias=False)\n",
       "      )\n",
       "      (2): BasicBlock(\n",
       "        (bn1): BatchNorm2d(160, eps=1e-05, momentum=0.1, affine=True, track_running_stats=True)\n",
       "        (relu1): ReLU(inplace=True)\n",
       "        (conv1): Conv2d(160, 160, kernel_size=(3, 3), stride=(1, 1), padding=(1, 1), bias=False)\n",
       "        (bn2): BatchNorm2d(160, eps=1e-05, momentum=0.1, affine=True, track_running_stats=True)\n",
       "        (relu2): ReLU(inplace=True)\n",
       "        (conv2): Conv2d(160, 160, kernel_size=(3, 3), stride=(1, 1), padding=(1, 1), bias=False)\n",
       "      )\n",
       "      (3): BasicBlock(\n",
       "        (bn1): BatchNorm2d(160, eps=1e-05, momentum=0.1, affine=True, track_running_stats=True)\n",
       "        (relu1): ReLU(inplace=True)\n",
       "        (conv1): Conv2d(160, 160, kernel_size=(3, 3), stride=(1, 1), padding=(1, 1), bias=False)\n",
       "        (bn2): BatchNorm2d(160, eps=1e-05, momentum=0.1, affine=True, track_running_stats=True)\n",
       "        (relu2): ReLU(inplace=True)\n",
       "        (conv2): Conv2d(160, 160, kernel_size=(3, 3), stride=(1, 1), padding=(1, 1), bias=False)\n",
       "      )\n",
       "      (4): BasicBlock(\n",
       "        (bn1): BatchNorm2d(160, eps=1e-05, momentum=0.1, affine=True, track_running_stats=True)\n",
       "        (relu1): ReLU(inplace=True)\n",
       "        (conv1): Conv2d(160, 160, kernel_size=(3, 3), stride=(1, 1), padding=(1, 1), bias=False)\n",
       "        (bn2): BatchNorm2d(160, eps=1e-05, momentum=0.1, affine=True, track_running_stats=True)\n",
       "        (relu2): ReLU(inplace=True)\n",
       "        (conv2): Conv2d(160, 160, kernel_size=(3, 3), stride=(1, 1), padding=(1, 1), bias=False)\n",
       "      )\n",
       "    )\n",
       "  )\n",
       "  (block2): NetworkBlock(\n",
       "    (layer): Sequential(\n",
       "      (0): BasicBlock(\n",
       "        (bn1): BatchNorm2d(160, eps=1e-05, momentum=0.1, affine=True, track_running_stats=True)\n",
       "        (relu1): ReLU(inplace=True)\n",
       "        (conv1): Conv2d(160, 320, kernel_size=(3, 3), stride=(2, 2), padding=(1, 1), bias=False)\n",
       "        (bn2): BatchNorm2d(320, eps=1e-05, momentum=0.1, affine=True, track_running_stats=True)\n",
       "        (relu2): ReLU(inplace=True)\n",
       "        (conv2): Conv2d(320, 320, kernel_size=(3, 3), stride=(1, 1), padding=(1, 1), bias=False)\n",
       "        (convShortcut): Conv2d(160, 320, kernel_size=(1, 1), stride=(2, 2), bias=False)\n",
       "      )\n",
       "      (1): BasicBlock(\n",
       "        (bn1): BatchNorm2d(320, eps=1e-05, momentum=0.1, affine=True, track_running_stats=True)\n",
       "        (relu1): ReLU(inplace=True)\n",
       "        (conv1): Conv2d(320, 320, kernel_size=(3, 3), stride=(1, 1), padding=(1, 1), bias=False)\n",
       "        (bn2): BatchNorm2d(320, eps=1e-05, momentum=0.1, affine=True, track_running_stats=True)\n",
       "        (relu2): ReLU(inplace=True)\n",
       "        (conv2): Conv2d(320, 320, kernel_size=(3, 3), stride=(1, 1), padding=(1, 1), bias=False)\n",
       "      )\n",
       "      (2): BasicBlock(\n",
       "        (bn1): BatchNorm2d(320, eps=1e-05, momentum=0.1, affine=True, track_running_stats=True)\n",
       "        (relu1): ReLU(inplace=True)\n",
       "        (conv1): Conv2d(320, 320, kernel_size=(3, 3), stride=(1, 1), padding=(1, 1), bias=False)\n",
       "        (bn2): BatchNorm2d(320, eps=1e-05, momentum=0.1, affine=True, track_running_stats=True)\n",
       "        (relu2): ReLU(inplace=True)\n",
       "        (conv2): Conv2d(320, 320, kernel_size=(3, 3), stride=(1, 1), padding=(1, 1), bias=False)\n",
       "      )\n",
       "      (3): BasicBlock(\n",
       "        (bn1): BatchNorm2d(320, eps=1e-05, momentum=0.1, affine=True, track_running_stats=True)\n",
       "        (relu1): ReLU(inplace=True)\n",
       "        (conv1): Conv2d(320, 320, kernel_size=(3, 3), stride=(1, 1), padding=(1, 1), bias=False)\n",
       "        (bn2): BatchNorm2d(320, eps=1e-05, momentum=0.1, affine=True, track_running_stats=True)\n",
       "        (relu2): ReLU(inplace=True)\n",
       "        (conv2): Conv2d(320, 320, kernel_size=(3, 3), stride=(1, 1), padding=(1, 1), bias=False)\n",
       "      )\n",
       "      (4): BasicBlock(\n",
       "        (bn1): BatchNorm2d(320, eps=1e-05, momentum=0.1, affine=True, track_running_stats=True)\n",
       "        (relu1): ReLU(inplace=True)\n",
       "        (conv1): Conv2d(320, 320, kernel_size=(3, 3), stride=(1, 1), padding=(1, 1), bias=False)\n",
       "        (bn2): BatchNorm2d(320, eps=1e-05, momentum=0.1, affine=True, track_running_stats=True)\n",
       "        (relu2): ReLU(inplace=True)\n",
       "        (conv2): Conv2d(320, 320, kernel_size=(3, 3), stride=(1, 1), padding=(1, 1), bias=False)\n",
       "      )\n",
       "    )\n",
       "  )\n",
       "  (block3): NetworkBlock(\n",
       "    (layer): Sequential(\n",
       "      (0): BasicBlock(\n",
       "        (bn1): BatchNorm2d(320, eps=1e-05, momentum=0.1, affine=True, track_running_stats=True)\n",
       "        (relu1): ReLU(inplace=True)\n",
       "        (conv1): Conv2d(320, 640, kernel_size=(3, 3), stride=(2, 2), padding=(1, 1), bias=False)\n",
       "        (bn2): BatchNorm2d(640, eps=1e-05, momentum=0.1, affine=True, track_running_stats=True)\n",
       "        (relu2): ReLU(inplace=True)\n",
       "        (conv2): Conv2d(640, 640, kernel_size=(3, 3), stride=(1, 1), padding=(1, 1), bias=False)\n",
       "        (convShortcut): Conv2d(320, 640, kernel_size=(1, 1), stride=(2, 2), bias=False)\n",
       "      )\n",
       "      (1): BasicBlock(\n",
       "        (bn1): BatchNorm2d(640, eps=1e-05, momentum=0.1, affine=True, track_running_stats=True)\n",
       "        (relu1): ReLU(inplace=True)\n",
       "        (conv1): Conv2d(640, 640, kernel_size=(3, 3), stride=(1, 1), padding=(1, 1), bias=False)\n",
       "        (bn2): BatchNorm2d(640, eps=1e-05, momentum=0.1, affine=True, track_running_stats=True)\n",
       "        (relu2): ReLU(inplace=True)\n",
       "        (conv2): Conv2d(640, 640, kernel_size=(3, 3), stride=(1, 1), padding=(1, 1), bias=False)\n",
       "      )\n",
       "      (2): BasicBlock(\n",
       "        (bn1): BatchNorm2d(640, eps=1e-05, momentum=0.1, affine=True, track_running_stats=True)\n",
       "        (relu1): ReLU(inplace=True)\n",
       "        (conv1): Conv2d(640, 640, kernel_size=(3, 3), stride=(1, 1), padding=(1, 1), bias=False)\n",
       "        (bn2): BatchNorm2d(640, eps=1e-05, momentum=0.1, affine=True, track_running_stats=True)\n",
       "        (relu2): ReLU(inplace=True)\n",
       "        (conv2): Conv2d(640, 640, kernel_size=(3, 3), stride=(1, 1), padding=(1, 1), bias=False)\n",
       "      )\n",
       "      (3): BasicBlock(\n",
       "        (bn1): BatchNorm2d(640, eps=1e-05, momentum=0.1, affine=True, track_running_stats=True)\n",
       "        (relu1): ReLU(inplace=True)\n",
       "        (conv1): Conv2d(640, 640, kernel_size=(3, 3), stride=(1, 1), padding=(1, 1), bias=False)\n",
       "        (bn2): BatchNorm2d(640, eps=1e-05, momentum=0.1, affine=True, track_running_stats=True)\n",
       "        (relu2): ReLU(inplace=True)\n",
       "        (conv2): Conv2d(640, 640, kernel_size=(3, 3), stride=(1, 1), padding=(1, 1), bias=False)\n",
       "      )\n",
       "      (4): BasicBlock(\n",
       "        (bn1): BatchNorm2d(640, eps=1e-05, momentum=0.1, affine=True, track_running_stats=True)\n",
       "        (relu1): ReLU(inplace=True)\n",
       "        (conv1): Conv2d(640, 640, kernel_size=(3, 3), stride=(1, 1), padding=(1, 1), bias=False)\n",
       "        (bn2): BatchNorm2d(640, eps=1e-05, momentum=0.1, affine=True, track_running_stats=True)\n",
       "        (relu2): ReLU(inplace=True)\n",
       "        (conv2): Conv2d(640, 640, kernel_size=(3, 3), stride=(1, 1), padding=(1, 1), bias=False)\n",
       "      )\n",
       "    )\n",
       "  )\n",
       "  (bn1): BatchNorm2d(640, eps=1e-05, momentum=0.1, affine=True, track_running_stats=True)\n",
       "  (relu): ReLU(inplace=True)\n",
       "  (fc): Linear(in_features=640, out_features=10, bias=True)\n",
       ")"
      ]
     },
     "execution_count": 7,
     "metadata": {},
     "output_type": "execute_result"
    }
   ],
   "source": [
    "model = WideResNet34()\n",
    "model.load_state_dict(torch.load('logs/Jun08-2018_WideResNet34/WideResNet34_e49_0.8695_0.5897-final.pt'))\n",
    "model.eval()"
   ]
  },
  {
   "cell_type": "code",
   "execution_count": 8,
   "metadata": {},
   "outputs": [],
   "source": [
    "modeln = get_model_for_attack('model1')"
   ]
  },
  {
   "cell_type": "code",
   "execution_count": 33,
   "metadata": {},
   "outputs": [],
   "source": [
    "eg = None\n",
    "egy = None\n",
    "for x, y in dataset:\n",
    "    eg = x.squeeze()\n",
    "    egy = y\n",
    "    break"
   ]
  },
  {
   "cell_type": "code",
   "execution_count": 43,
   "metadata": {},
   "outputs": [
    {
     "data": {
      "text/plain": [
       "torch.Size([10])"
      ]
     },
     "execution_count": 43,
     "metadata": {},
     "output_type": "execute_result"
    }
   ],
   "source": [
    "egy.shape"
   ]
  },
  {
   "cell_type": "code",
   "execution_count": 10,
   "metadata": {},
   "outputs": [
    {
     "data": {
      "text/plain": [
       "<matplotlib.image.AxesImage at 0x7f8bd97ce990>"
      ]
     },
     "execution_count": 10,
     "metadata": {},
     "output_type": "execute_result"
    },
    {
     "data": {
      "image/png": "[encoded data removed]",
      "text/plain": [
       "<Figure size 432x288 with 1 Axes>"
      ]
     },
     "metadata": {
      "needs_background": "light"
     },
     "output_type": "display_data"
    }
   ],
   "source": [
    "plt.imshow(eg[0].permute((1,2,0)))"
   ]
  },
  {
   "cell_type": "code",
   "execution_count": 11,
   "metadata": {},
   "outputs": [
    {
     "name": "stdout",
     "output_type": "stream",
     "text": [
      "true val:  tensor([6, 9, 9, 4, 1, 1, 2, 7, 8, 3])\n",
      "predict raw tensor([6, 9, 9, 4, 1, 1, 2, 7, 8, 3])\n",
      "pred:  tensor([6, 9, 9, 4, 1, 1, 2, 7, 8, 3]) logit:  tensor([[-1.8667e+00, -2.1147e+00, -5.7386e-01,  3.3407e-01, -7.2054e-01,\n",
      "          8.9453e-01,  1.0400e+01, -1.6685e+00, -2.0821e+00, -2.6025e+00],\n",
      "        [-3.7131e-01, -1.4491e+00, -4.7163e-01, -1.1205e+00, -2.5388e+00,\n",
      "         -7.3930e-01, -9.8749e-01, -8.2871e-01, -5.6092e-01,  9.0673e+00],\n",
      "        [ 5.1351e-01, -7.6211e-01, -1.1317e-01, -1.4085e+00, -2.2026e+00,\n",
      "         -1.0306e+00, -1.5986e+00, -1.3286e+00, -3.7237e-01,  8.3028e+00],\n",
      "        [-6.5534e-01, -3.5632e+00, -1.3341e+00, -8.7812e-01,  1.2075e+01,\n",
      "          1.1157e+00, -7.5690e-01, -1.0039e+00, -2.1652e+00, -2.8336e+00],\n",
      "        [ 5.3409e-01,  8.3340e+00, -2.0738e+00, -1.4197e+00, -2.2835e+00,\n",
      "         -6.1636e-01, -7.6221e-01, -1.9080e+00,  1.0275e-01,  9.2537e-02],\n",
      "        [-9.9643e-01,  7.6967e+00, -2.2573e+00,  1.0367e+00, -2.0909e+00,\n",
      "          5.4854e-01, -1.6741e+00, -1.9408e+00, -9.9659e-01,  6.7383e-01],\n",
      "        [-7.2198e-01, -3.2208e+00,  1.2726e+01, -4.8270e-01,  1.2362e+00,\n",
      "         -1.0922e-02, -9.5940e-01, -1.6107e+00, -3.2699e+00, -3.6865e+00],\n",
      "        [-3.9769e-01, -2.6820e+00, -7.6485e-01, -1.6031e+00,  7.0023e-01,\n",
      "          6.0854e-01, -1.5796e+00,  1.0298e+01, -1.9577e+00, -2.6224e+00],\n",
      "        [ 2.0118e+00, -2.7364e+00, -1.5979e+00, -1.7848e+00, -2.5944e+00,\n",
      "          1.1254e+00, -1.5810e+00, -1.5828e+00,  1.1389e+01, -2.6489e+00],\n",
      "        [ 6.3783e-01, -2.3192e+00, -1.7261e+00,  9.4364e+00, -1.5820e+00,\n",
      "          8.5913e-01, -1.2608e+00,  7.8581e-01, -2.5624e+00, -2.2692e+00]],\n",
      "       grad_fn=<AddmmBackward>)\n"
     ]
    },
    {
     "data": {
      "image/png": "[encoded data removed]",
      "text/plain": [
       "<Figure size 432x288 with 1 Axes>"
      ]
     },
     "metadata": {
      "needs_background": "light"
     },
     "output_type": "display_data"
    }
   ],
   "source": [
    "print(\"true val: \", egy)\n",
    "print('predict raw', torch.argmax(modeln(eg),dim=1) )\n",
    "for i in range(1):\n",
    "    x_adv = eg + 0.01 * torch.randn(eg.shape).detach()\n",
    "    x_adv = torch.clamp(x_adv, 0.0, 1.0)\n",
    "    plt.imshow(x_adv[0].permute(1,2,0))\n",
    "    logits = modeln(x_adv) \n",
    "    print('pred: ', torch.argmax(logits, dim=1), 'logit: ', logits)"
   ]
  },
  {
   "cell_type": "code",
   "execution_count": 12,
   "metadata": {},
   "outputs": [
    {
     "name": "stdout",
     "output_type": "stream",
     "text": [
      "true val:  tensor([6, 9, 9, 4, 1, 1, 2, 7, 8, 3])\n",
      "predict raw tensor([6, 9, 9, 4, 1, 1, 2, 7, 8, 3])\n",
      "pred:  tensor([4, 2, 2, 6, 0, 3, 5, 4, 0, 0]) logit:  tensor([[-2.6092e+00, -4.3337e+00, -1.1602e+00, -8.0152e-01,  1.7820e+01,\n",
      "          9.5905e-01, -2.6019e+00, -1.3768e-01, -3.2022e+00, -3.9329e+00],\n",
      "        [-1.9051e+00, -4.3866e+00,  1.9316e+01, -1.0385e+00, -1.0507e+00,\n",
      "         -1.6870e+00, -1.3209e+00, -1.6168e+00, -2.7793e+00, -3.5316e+00],\n",
      "        [-2.5956e+00, -5.3583e+00,  1.8019e+01, -4.1476e-01, -2.8706e+00,\n",
      "         -1.9985e+00,  5.3164e-01, -3.3242e+00,  1.5936e+00, -3.5825e+00],\n",
      "        [-3.0861e+00, -1.4737e+00, -6.9177e-01, -2.5567e+00, -3.0813e+00,\n",
      "         -1.1448e+00,  1.8994e+01, -1.6600e+00, -2.1352e+00, -3.1650e+00],\n",
      "        [ 1.7952e+01, -4.1044e+00, -4.3892e+00, -4.6863e+00,  1.2457e-01,\n",
      "         -2.4373e+00, -3.6468e+00, -4.0700e-01,  1.8326e+00, -2.3851e-01],\n",
      "        [-2.5058e+00, -3.1367e+00, -4.6603e-01,  1.5020e+01, -3.4359e-01,\n",
      "          2.8907e-01, -1.8367e+00, -1.2632e+00, -3.0193e+00, -2.7384e+00],\n",
      "        [-2.6276e+00, -2.6918e+00, -4.2142e+00,  4.3661e-01,  6.9515e-01,\n",
      "          1.6649e+01, -1.2128e+00, -6.7302e-02, -4.2047e+00, -2.7632e+00],\n",
      "        [-1.4979e+00, -4.0847e+00, -1.1651e+00, -6.5076e-01,  1.6686e+01,\n",
      "          1.0806e+00, -1.0661e+00, -2.7212e+00, -3.3080e+00, -3.2724e+00],\n",
      "        [ 1.9228e+01, -3.0432e+00, -2.8572e+00, -4.3236e+00, -1.4029e+00,\n",
      "         -3.2829e+00, -5.4064e-01,  1.3459e-02, -1.3868e+00, -2.4044e+00],\n",
      "        [ 1.6918e+01, -2.1067e+00, -2.0023e+00, -5.4183e+00, -3.6590e-01,\n",
      "         -1.5887e+00, -4.7121e+00, -2.8178e+00,  2.4047e+00, -3.1115e-01]],\n",
      "       grad_fn=<AddmmBackward>)\n"
     ]
    },
    {
     "data": {
      "image/png": "[encoded data removed]",
      "text/plain": [
       "<Figure size 432x288 with 1 Axes>"
      ]
     },
     "metadata": {
      "needs_background": "light"
     },
     "output_type": "display_data"
    }
   ],
   "source": [
    "print(\"true val: \", egy)\n",
    "print('predict raw', torch.argmax(modeln(eg),dim=1) )\n",
    "for i in range(1):\n",
    "    x_adv = pgd_attack(modeln, eg.clone(), egy.clone(), step_size=0.01, epsilon=8.0/255, perturb_steps=20)\n",
    "    plt.imshow(x_adv[0].permute(1,2,0))\n",
    "    logits = modeln(x_adv) \n",
    "    print('pred: ', torch.argmax(logits, dim=1), 'logit: ', logits)"
   ]
  },
  {
   "cell_type": "markdown",
   "metadata": {},
   "source": [
    "## Robust Model"
   ]
  },
  {
   "cell_type": "code",
   "execution_count": 13,
   "metadata": {},
   "outputs": [
    {
     "name": "stdout",
     "output_type": "stream",
     "text": [
      "true val:  tensor([6, 9, 9, 4, 1, 1, 2, 7, 8, 3])\n",
      "predict raw tensor([6, 9, 9, 4, 1, 1, 2, 7, 8, 3])\n",
      "pred:  tensor([6, 9, 9, 4, 1, 1, 2, 7, 8, 3]) logit:  tensor([[-1.5088, -2.4110,  0.5375,  1.7202,  1.6301,  1.8014,  3.2640,  0.0750,\n",
      "         -2.0752, -3.0327],\n",
      "        [-0.7322,  1.3668, -0.9810, -0.6608, -2.1870, -0.6015, -1.4534, -0.4217,\n",
      "          0.3058,  5.3656],\n",
      "        [ 1.7532, -1.1419, -0.2142, -0.7675, -1.0778, -2.0422, -1.4351, -0.2323,\n",
      "          0.7191,  4.4394],\n",
      "        [-1.4688, -1.9985,  1.0744,  0.7114,  3.1047,  0.7931,  2.9115, -0.5178,\n",
      "         -2.2944, -2.3150],\n",
      "        [ 1.2686,  6.6362, -1.9320, -2.5410, -1.3287, -2.3438, -2.1992, -0.9048,\n",
      "          1.2444,  2.1009],\n",
      "        [-2.2983,  5.4636, -1.1630, -0.4417, -0.8772, -0.5521,  0.4366, -0.5027,\n",
      "         -1.5296,  1.4650],\n",
      "        [-0.2981, -1.4466,  3.8197, -0.8280,  2.0795, -0.4296,  0.6084,  0.3600,\n",
      "         -2.2037, -1.6608],\n",
      "        [-2.7793, -2.9098, -0.0862,  0.4899,  2.9943,  1.1688, -0.2641,  6.3875,\n",
      "         -2.8246, -2.1758],\n",
      "        [ 2.8581, -1.8561,  0.6391, -1.2643, -1.3813, -1.1561, -2.4569, -0.9552,\n",
      "          6.4106, -0.8371],\n",
      "        [-1.1923, -0.2499, -1.1432,  2.8637, -0.2343,  1.0998, -0.7309,  0.8970,\n",
      "         -1.7402,  0.4309]], grad_fn=<AddmmBackward>)\n"
     ]
    },
    {
     "data": {
      "image/png": "[encoded data removed]",
      "text/plain": [
       "<Figure size 432x288 with 1 Axes>"
      ]
     },
     "metadata": {
      "needs_background": "light"
     },
     "output_type": "display_data"
    }
   ],
   "source": [
    "print(\"true val: \", egy)\n",
    "print('predict raw', torch.argmax(model(eg),dim=1) )\n",
    "for i in range(1):\n",
    "    x_adv = eg + 0.01 * torch.randn(eg.shape).detach()\n",
    "    x_adv = torch.clamp(x_adv, 0.0, 1.0)\n",
    "    plt.imshow(x_adv[0].permute(1,2,0))\n",
    "    logits = model(x_adv) \n",
    "    print('pred: ', torch.argmax(logits, dim=1), 'logit: ', logits)"
   ]
  },
  {
   "cell_type": "code",
   "execution_count": 14,
   "metadata": {},
   "outputs": [
    {
     "name": "stdout",
     "output_type": "stream",
     "text": [
      "true val:  tensor([6, 9, 9, 4, 1, 1, 2, 7, 8, 3])\n",
      "predict raw tensor([6, 9, 9, 4, 1, 1, 2, 7, 8, 3])\n",
      "pred:  tensor([6, 9, 9, 6, 1, 1, 2, 7, 8, 3]) logit:  tensor([[-1.3860, -2.3211,  0.2447,  1.6922,  2.0704,  2.0156,  2.5545,  0.4982,\n",
      "         -2.5245, -2.8435],\n",
      "        [-0.3442,  1.4713, -0.8060, -0.7783, -2.3277, -0.6491, -1.4650, -0.4863,\n",
      "          0.8098,  4.5763],\n",
      "        [ 2.1529, -1.6159,  0.1043, -0.7914, -0.6974, -2.0566, -1.6060,  0.0497,\n",
      "          0.7069,  3.7542],\n",
      "        [-1.4807, -1.8512,  1.2122,  0.8730,  2.6873,  0.7344,  3.5813, -0.7577,\n",
      "         -2.4121, -2.5859],\n",
      "        [ 1.8124,  6.2739, -2.0108, -2.4807, -1.2984, -2.4284, -2.3536, -1.1846,\n",
      "          1.3245,  2.3465],\n",
      "        [-2.1000,  4.7904, -1.2940, -0.3498, -0.6354, -0.4220,  0.5265, -0.4018,\n",
      "         -1.7155,  1.6022],\n",
      "        [-0.2266, -1.4189,  2.7299, -0.8322,  2.1212, -0.4165,  0.6327,  0.9515,\n",
      "         -2.2392, -1.3013],\n",
      "        [-2.6919, -3.0978, -0.0350,  0.5549,  3.3308,  1.4070, -0.3095,  6.0981,\n",
      "         -3.0919, -2.1639],\n",
      "        [ 3.2799, -1.8426,  0.9015, -1.3187, -1.3300, -1.2453, -2.3112, -1.2203,\n",
      "          5.9843, -0.8968],\n",
      "        [-0.8215, -0.0407, -0.9193,  2.0221, -0.3047,  0.6680, -0.7619,  1.3259,\n",
      "         -1.6584,  0.4910]], grad_fn=<AddmmBackward>)\n"
     ]
    },
    {
     "data": {
      "image/png": "[encoded data removed]",
      "text/plain": [
       "<Figure size 432x288 with 1 Axes>"
      ]
     },
     "metadata": {
      "needs_background": "light"
     },
     "output_type": "display_data"
    }
   ],
   "source": [
    "print(\"true val: \", egy)\n",
    "print('predict raw', torch.argmax(model(eg),dim=1) )\n",
    "for i in range(1):\n",
    "    x_adv = pgd_attack(model, eg.clone(), egy.clone(), step_size=0.01, epsilon=8.0/255, perturb_steps=20)\n",
    "    plt.imshow(x_adv[0].permute(1,2,0))\n",
    "    logits = model(x_adv) \n",
    "    print('pred: ', torch.argmax(logits, dim=1), 'logit: ', logits)"
   ]
  },
  {
   "cell_type": "code",
   "execution_count": 9,
   "metadata": {},
   "outputs": [],
   "source": [
    "model4 = get_model_for_attack('model4')"
   ]
  },
  {
   "cell_type": "code",
   "execution_count": null,
   "metadata": {},
   "outputs": [],
   "source": [
    "logits4 = model4(x_adv) \n",
    "print('pred: ', torch.argmax(logits4, dim=1), 'logit: ', logits)"
   ]
  },
  {
   "cell_type": "markdown",
   "metadata": {},
   "source": [
    "## Guessing the variance"
   ]
  },
  {
   "cell_type": "code",
   "execution_count": 10,
   "metadata": {},
   "outputs": [],
   "source": [
    "import numpy as np"
   ]
  },
  {
   "cell_type": "code",
   "execution_count": 27,
   "metadata": {},
   "outputs": [
    {
     "name": "stdout",
     "output_type": "stream",
     "text": [
      "Files already downloaded and verified\n"
     ]
    },
    {
     "name": "stderr",
     "output_type": "stream",
     "text": [
      "30it [01:37,  3.26s/it]\n"
     ]
    }
   ],
   "source": [
    "norm_n = []\n",
    "norm_r6 = []\n",
    "norm_r4 = []\n",
    "\n",
    "model = model.cpu()\n",
    "modeln = modeln.cpu()\n",
    "model4 = model4.cpu()\n",
    "\n",
    "trainset_org = torchvision.datasets.CIFAR10(\n",
    "        root='./data', train=True, download=True,\n",
    "        transform=transforms.ToTensor()\n",
    "    )\n",
    "loader_org = torch.utils.data.DataLoader(trainset_org, 50)\n",
    "\n",
    "for i, (x, y) in tqdm(enumerate(loader_org)):\n",
    "    logits_n = modeln(x)\n",
    "    logits_r = model(x)\n",
    "    logits_4 = model4(x)\n",
    "    norm_n += [*logits_n.norm(dim=1).detach().numpy()]\n",
    "    norm_r6 += [*logits_r.norm(dim=1).detach().numpy()]\n",
    "    norm_r4 += [*logits_4.norm(dim=1).detach().numpy()]\n",
    "    if (i == 30): break"
   ]
  },
  {
   "cell_type": "code",
   "execution_count": 28,
   "metadata": {},
   "outputs": [
    {
     "ename": "NameError",
     "evalue": "name 'norm_r' is not defined",
     "output_type": "error",
     "traceback": [
      "\u001b[0;31m---------------------------------------------------------------------------\u001b[0m",
      "\u001b[0;31mNameError\u001b[0m                                 Traceback (most recent call last)",
      "\u001b[0;32m<ipython-input-28-0188ea98276f>\u001b[0m in \u001b[0;36m<module>\u001b[0;34m\u001b[0m\n\u001b[1;32m      2\u001b[0m \u001b[0mplt\u001b[0m\u001b[0;34m.\u001b[0m\u001b[0mhist\u001b[0m\u001b[0;34m(\u001b[0m\u001b[0mnorm_n\u001b[0m\u001b[0;34m,\u001b[0m \u001b[0mbins\u001b[0m\u001b[0;34m=\u001b[0m\u001b[0;36m30\u001b[0m\u001b[0;34m)\u001b[0m\u001b[0;34m\u001b[0m\u001b[0;34m\u001b[0m\u001b[0m\n\u001b[1;32m      3\u001b[0m \u001b[0mplt\u001b[0m\u001b[0;34m.\u001b[0m\u001b[0msubplot\u001b[0m\u001b[0;34m(\u001b[0m\u001b[0;36m2\u001b[0m\u001b[0;34m,\u001b[0m\u001b[0;36m1\u001b[0m\u001b[0;34m,\u001b[0m\u001b[0;36m2\u001b[0m\u001b[0;34m)\u001b[0m\u001b[0;34m\u001b[0m\u001b[0;34m\u001b[0m\u001b[0m\n\u001b[0;32m----> 4\u001b[0;31m \u001b[0mplt\u001b[0m\u001b[0;34m.\u001b[0m\u001b[0mhist\u001b[0m\u001b[0;34m(\u001b[0m\u001b[0mnorm_r\u001b[0m\u001b[0;34m,\u001b[0m \u001b[0mbins\u001b[0m\u001b[0;34m=\u001b[0m\u001b[0;36m30\u001b[0m\u001b[0;34m)\u001b[0m\u001b[0;34m\u001b[0m\u001b[0;34m\u001b[0m\u001b[0m\n\u001b[0m",
      "\u001b[0;31mNameError\u001b[0m: name 'norm_r' is not defined"
     ]
    },
    {
     "data": {
      "image/png": "[encoded data removed]",
      "text/plain": [
       "<Figure size 432x288 with 2 Axes>"
      ]
     },
     "metadata": {
      "needs_background": "light"
     },
     "output_type": "display_data"
    }
   ],
   "source": [
    "plt.subplot(2,1,1)\n",
    "plt.hist(norm_n, bins=30)\n",
    "plt.subplot(2,1,2)\n",
    "plt.hist(norm_r, bins=30)"
   ]
  },
  {
   "cell_type": "code",
   "execution_count": 30,
   "metadata": {},
   "outputs": [
    {
     "data": {
      "image/png": "[encoded data removed]",
      "text/plain": [
       "<Figure size 432x288 with 1 Axes>"
      ]
     },
     "metadata": {
      "needs_background": "light"
     },
     "output_type": "display_data"
    }
   ],
   "source": [
    "plt.style.use('seaborn-pastel')\n",
    "plt.hist(norm_n, bins=30, label='Naive model')\n",
    "plt.hist(norm_r6, bins=30, label='robust model6')\n",
    "plt.hist(norm_r4, bins=30, label='robust model4')\n",
    "plt.legend()\n",
    "plt.xlabel('Variance of logits')\n",
    "plt.ylabel('Frequency')\n",
    "plt.savefig('variance.png')"
   ]
  },
  {
   "cell_type": "code",
   "execution_count": 32,
   "metadata": {},
   "outputs": [
    {
     "name": "stdout",
     "output_type": "stream",
     "text": [
      "Files already downloaded and verified\n"
     ]
    },
    {
     "name": "stderr",
     "output_type": "stream",
     "text": [
      "30it [00:18,  1.58it/s]\n"
     ]
    }
   ],
   "source": [
    "loss_n = []\n",
    "loss_r6 = []\n",
    "loss_r4 = []\n",
    "\n",
    "trainset_org = torchvision.datasets.CIFAR10(\n",
    "        root='./data', train=True, download=True,\n",
    "        transform=transforms.ToTensor()\n",
    "    )\n",
    "loader_org = torch.utils.data.DataLoader(trainset_org, 10)\n",
    "\n",
    "for i, (x, y) in tqdm(enumerate(loader_org)):\n",
    "    logits_n = nn.CrossEntropyLoss()(modeln(x),y)\n",
    "    logits_r = nn.CrossEntropyLoss()(model(x),y)\n",
    "    logits_4 = nn.CrossEntropyLoss()(model4(x),y)\n",
    "    loss_n += [logits_n.detach().numpy()]\n",
    "    loss_r6 += [logits_r.detach().numpy()]\n",
    "    loss_r4 += [logits_4.detach().numpy()]\n",
    "    if (i == 30): break"
   ]
  },
  {
   "cell_type": "code",
   "execution_count": 34,
   "metadata": {},
   "outputs": [
    {
     "data": {
      "image/png": "[encoded data removed]",
      "text/plain": [
       "<Figure size 432x288 with 1 Axes>"
      ]
     },
     "metadata": {
      "needs_background": "light"
     },
     "output_type": "display_data"
    }
   ],
   "source": [
    "plt.style.use('seaborn-pastel')\n",
    "plt.hist(loss_n, bins=30, label='Naive model')\n",
    "plt.hist(loss_r6, bins=30, label='robust model6')\n",
    "plt.hist(loss_r4, bins=30, label='robust model4')\n",
    "plt.legend()\n",
    "plt.xlabel('Variance of logits')\n",
    "plt.ylabel('Frequency')\n",
    "plt.savefig('variance.png')"
   ]
  },
  {
   "cell_type": "code",
   "execution_count": null,
   "metadata": {},
   "outputs": [],
   "source": [
    "## Explore random space"
   ]
  },
  {
   "cell_type": "code",
   "execution_count": 48,
   "metadata": {},
   "outputs": [
    {
     "name": "stderr",
     "output_type": "stream",
     "text": [
      "100%|██████████| 500/500 [04:55<00:00,  1.69it/s]\n"
     ]
    }
   ],
   "source": [
    "loss_n = []\n",
    "loss_r6 = []\n",
    "loss_r4 = []\n",
    "\n",
    "for i in tqdm(range(500)):\n",
    "    x = eg + 0.01 * torch.randn(eg.shape).detach()\n",
    "    x = torch.clamp(x, 0.0, 1.0)\n",
    "    logits_n = nn.CrossEntropyLoss()(modeln(x),egy)\n",
    "    logits_r = nn.CrossEntropyLoss()(model(x),egy)\n",
    "    logits_4 = nn.CrossEntropyLoss()(model4(x),egy)\n",
    "    loss_n += [logits_n.detach().numpy()]\n",
    "    loss_r6 += [logits_r.detach().numpy()]\n",
    "    loss_r4 += [logits_4.detach().numpy()]\n"
   ]
  },
  {
   "cell_type": "code",
   "execution_count": 50,
   "metadata": {},
   "outputs": [
    {
     "data": {
      "image/png": "[encoded data removed]",
      "text/plain": [
       "<Figure size 432x288 with 1 Axes>"
      ]
     },
     "metadata": {
      "needs_background": "light"
     },
     "output_type": "display_data"
    }
   ],
   "source": [
    "plt.style.use('seaborn-pastel')\n",
    "plt.hist(loss_n,  label='Naive model')\n",
    "plt.hist(loss_r6,  label='robust model6')\n",
    "plt.hist(loss_r4,  label='robust model4')\n",
    "plt.legend()\n",
    "plt.xlabel('Variance of logits')\n",
    "plt.ylabel('Frequency')\n",
    "plt.savefig('variance.png')"
   ]
  },
  {
   "cell_type": "markdown",
   "metadata": {},
   "source": [
    "## Fail"
   ]
  },
  {
   "cell_type": "code",
   "execution_count": 19,
   "metadata": {},
   "outputs": [
    {
     "name": "stdout",
     "output_type": "stream",
     "text": [
      "Files already downloaded and verified\n"
     ]
    },
    {
     "name": "stderr",
     "output_type": "stream",
     "text": [
      "2073it [26:17,  1.31it/s]\n"
     ]
    },
    {
     "ename": "KeyboardInterrupt",
     "evalue": "",
     "output_type": "error",
     "traceback": [
      "\u001b[0;31m---------------------------------------------------------------------------\u001b[0m",
      "\u001b[0;31mKeyboardInterrupt\u001b[0m                         Traceback (most recent call last)",
      "\u001b[0;32m<ipython-input-19-a957656e9bc8>\u001b[0m in \u001b[0;36m<module>\u001b[0;34m\u001b[0m\n\u001b[1;32m     15\u001b[0m     \u001b[0mmodeln\u001b[0m\u001b[0;34m.\u001b[0m\u001b[0mcuda\u001b[0m\u001b[0;34m(\u001b[0m\u001b[0;34m)\u001b[0m\u001b[0;34m\u001b[0m\u001b[0;34m\u001b[0m\u001b[0m\n\u001b[1;32m     16\u001b[0m     \u001b[0mmodel\u001b[0m\u001b[0;34m.\u001b[0m\u001b[0mcuda\u001b[0m\u001b[0;34m(\u001b[0m\u001b[0;34m)\u001b[0m\u001b[0;34m\u001b[0m\u001b[0;34m\u001b[0m\u001b[0m\n\u001b[0;32m---> 17\u001b[0;31m     \u001b[0mx_adv\u001b[0m \u001b[0;34m=\u001b[0m \u001b[0mpgd_attack\u001b[0m\u001b[0;34m(\u001b[0m\u001b[0mmodel\u001b[0m\u001b[0;34m,\u001b[0m \u001b[0mx\u001b[0m\u001b[0;34m.\u001b[0m\u001b[0mclone\u001b[0m\u001b[0;34m(\u001b[0m\u001b[0;34m)\u001b[0m\u001b[0;34m,\u001b[0m \u001b[0my\u001b[0m\u001b[0;34m.\u001b[0m\u001b[0mclone\u001b[0m\u001b[0;34m(\u001b[0m\u001b[0;34m)\u001b[0m\u001b[0;34m,\u001b[0m \u001b[0mstep_size\u001b[0m\u001b[0;34m=\u001b[0m\u001b[0;36m0.01\u001b[0m\u001b[0;34m,\u001b[0m \u001b[0mepsilon\u001b[0m\u001b[0;34m=\u001b[0m\u001b[0;36m8.0\u001b[0m\u001b[0;34m/\u001b[0m\u001b[0;36m255\u001b[0m\u001b[0;34m,\u001b[0m \u001b[0mperturb_steps\u001b[0m\u001b[0;34m=\u001b[0m\u001b[0;36m20\u001b[0m\u001b[0;34m)\u001b[0m\u001b[0;34m\u001b[0m\u001b[0;34m\u001b[0m\u001b[0m\n\u001b[0m\u001b[1;32m     18\u001b[0m     \u001b[0mlogits_n\u001b[0m \u001b[0;34m=\u001b[0m \u001b[0mmodeln\u001b[0m\u001b[0;34m(\u001b[0m\u001b[0mx_adv\u001b[0m\u001b[0;34m)\u001b[0m\u001b[0;34m\u001b[0m\u001b[0;34m\u001b[0m\u001b[0m\n\u001b[1;32m     19\u001b[0m     \u001b[0mlogits_r\u001b[0m \u001b[0;34m=\u001b[0m \u001b[0mmodel\u001b[0m\u001b[0;34m(\u001b[0m\u001b[0mx_adv\u001b[0m\u001b[0;34m)\u001b[0m\u001b[0;34m\u001b[0m\u001b[0;34m\u001b[0m\u001b[0m\n",
      "\u001b[0;32m/mnt/nas/home/baoqingquan/Spear-Shield/pgd_attack.py\u001b[0m in \u001b[0;36mpgd_attack\u001b[0;34m(model, x, y, step_size, epsilon, perturb_steps, criterion, random_start, distance)\u001b[0m\n\u001b[1;32m     32\u001b[0m             \u001b[0;32mwith\u001b[0m \u001b[0mtorch\u001b[0m\u001b[0;34m.\u001b[0m\u001b[0menable_grad\u001b[0m\u001b[0;34m(\u001b[0m\u001b[0;34m)\u001b[0m\u001b[0;34m:\u001b[0m\u001b[0;34m\u001b[0m\u001b[0;34m\u001b[0m\u001b[0m\n\u001b[1;32m     33\u001b[0m                 \u001b[0mloss_c\u001b[0m \u001b[0;34m=\u001b[0m \u001b[0mcriterion\u001b[0m\u001b[0;34m(\u001b[0m\u001b[0mmodel\u001b[0m\u001b[0;34m(\u001b[0m\u001b[0mx_adv\u001b[0m\u001b[0;34m)\u001b[0m\u001b[0;34m,\u001b[0m \u001b[0my\u001b[0m\u001b[0;34m)\u001b[0m\u001b[0;34m\u001b[0m\u001b[0;34m\u001b[0m\u001b[0m\n\u001b[0;32m---> 34\u001b[0;31m             \u001b[0mgrad\u001b[0m \u001b[0;34m=\u001b[0m \u001b[0mtorch\u001b[0m\u001b[0;34m.\u001b[0m\u001b[0mautograd\u001b[0m\u001b[0;34m.\u001b[0m\u001b[0mgrad\u001b[0m\u001b[0;34m(\u001b[0m\u001b[0mloss_c\u001b[0m\u001b[0;34m,\u001b[0m \u001b[0;34m[\u001b[0m\u001b[0mx_adv\u001b[0m\u001b[0;34m]\u001b[0m\u001b[0;34m)\u001b[0m\u001b[0;34m[\u001b[0m\u001b[0;36m0\u001b[0m\u001b[0;34m]\u001b[0m\u001b[0;34m\u001b[0m\u001b[0;34m\u001b[0m\u001b[0m\n\u001b[0m\u001b[1;32m     35\u001b[0m             \u001b[0mx_adv\u001b[0m \u001b[0;34m=\u001b[0m \u001b[0mx_adv\u001b[0m\u001b[0;34m.\u001b[0m\u001b[0mdetach\u001b[0m\u001b[0;34m(\u001b[0m\u001b[0;34m)\u001b[0m \u001b[0;34m+\u001b[0m \u001b[0mstep_size\u001b[0m \u001b[0;34m*\u001b[0m \u001b[0mtorch\u001b[0m\u001b[0;34m.\u001b[0m\u001b[0msign\u001b[0m\u001b[0;34m(\u001b[0m\u001b[0mgrad\u001b[0m\u001b[0;34m.\u001b[0m\u001b[0mdetach\u001b[0m\u001b[0;34m(\u001b[0m\u001b[0;34m)\u001b[0m\u001b[0;34m)\u001b[0m\u001b[0;34m\u001b[0m\u001b[0;34m\u001b[0m\u001b[0m\n\u001b[1;32m     36\u001b[0m             \u001b[0mx_adv\u001b[0m \u001b[0;34m=\u001b[0m \u001b[0mtorch\u001b[0m\u001b[0;34m.\u001b[0m\u001b[0mmin\u001b[0m\u001b[0;34m(\u001b[0m\u001b[0mtorch\u001b[0m\u001b[0;34m.\u001b[0m\u001b[0mmax\u001b[0m\u001b[0;34m(\u001b[0m\u001b[0mx_adv\u001b[0m\u001b[0;34m,\u001b[0m \u001b[0mx\u001b[0m \u001b[0;34m-\u001b[0m \u001b[0mepsilon\u001b[0m\u001b[0;34m)\u001b[0m\u001b[0;34m,\u001b[0m \u001b[0mx\u001b[0m \u001b[0;34m+\u001b[0m \u001b[0mepsilon\u001b[0m\u001b[0;34m)\u001b[0m\u001b[0;34m\u001b[0m\u001b[0;34m\u001b[0m\u001b[0m\n",
      "\u001b[0;32m~/anaconda3/envs/pca-gm/lib/python3.7/site-packages/torch/autograd/__init__.py\u001b[0m in \u001b[0;36mgrad\u001b[0;34m(outputs, inputs, grad_outputs, retain_graph, create_graph, only_inputs, allow_unused)\u001b[0m\n\u001b[1;32m    202\u001b[0m     return Variable._execution_engine.run_backward(\n\u001b[1;32m    203\u001b[0m         \u001b[0moutputs\u001b[0m\u001b[0;34m,\u001b[0m \u001b[0mgrad_outputs_\u001b[0m\u001b[0;34m,\u001b[0m \u001b[0mretain_graph\u001b[0m\u001b[0;34m,\u001b[0m \u001b[0mcreate_graph\u001b[0m\u001b[0;34m,\u001b[0m\u001b[0;34m\u001b[0m\u001b[0;34m\u001b[0m\u001b[0m\n\u001b[0;32m--> 204\u001b[0;31m         inputs, allow_unused)\n\u001b[0m\u001b[1;32m    205\u001b[0m \u001b[0;34m\u001b[0m\u001b[0m\n\u001b[1;32m    206\u001b[0m \u001b[0;34m\u001b[0m\u001b[0m\n",
      "\u001b[0;31mKeyboardInterrupt\u001b[0m: "
     ]
    }
   ],
   "source": [
    "norm_adv_n = []\n",
    "norm_adv_r = []\n",
    "acc = 0 \n",
    "racc = 0\n",
    "\n",
    "trainset_org = torchvision.datasets.CIFAR10(\n",
    "        root='./data', train=True, download=True,\n",
    "        transform=transforms.ToTensor()\n",
    "    )\n",
    "loader_org = torch.utils.data.DataLoader(trainset_org, 256)\n",
    "\n",
    "for i, (x, y) in tqdm(enumerate(loader_org)):\n",
    "    x = x.cuda()\n",
    "    y = y.cuda()\n",
    "    modeln.cuda()\n",
    "    model.cuda()\n",
    "    x_adv = pgd_attack(model, x.clone(), y.clone(), step_size=0.01, epsilon=8.0/255, perturb_steps=20)\n",
    "    logits_n = modeln(x_adv)\n",
    "    logits_r = model(x_adv)\n",
    "    norm_adv_n += [*logits_n.norm(dim=1).detach().cpu().numpy()]\n",
    "    norm_adv_r += [*logits_r.norm(dim=1).detach().cpu().numpy()]\n",
    "    acc += (torch.argmax(logits_n,dim=1) == y).sum()\n",
    "    racc +=(torch.argmax(logits_r,dim=1) == y).sum()"
   ]
  },
  {
   "cell_type": "code",
   "execution_count": null,
   "metadata": {},
   "outputs": [],
   "source": [
    "print('acc= {}, racc= {}'.format(acc,racc))\n",
    "plt.subplot(2,1,1)\n",
    "plt.hist(norm_n, bins=30)\n",
    "plt.subplot(2,1,2)\n",
    "plt.hist(norm_r, bins=30)"
   ]
  },
  {
   "cell_type": "code",
   "execution_count": null,
   "metadata": {},
   "outputs": [],
   "source": []
  }
 ],
 "metadata": {
  "kernelspec": {
   "display_name": "pca_gm",
   "language": "python",
   "name": "pca_gm"
  },
  "language_info": {
   "codemirror_mode": {
    "name": "ipython",
    "version": 3
   },
   "file_extension": ".py",
   "mimetype": "text/x-python",
   "name": "python",
   "nbconvert_exporter": "python",
   "pygments_lexer": "ipython3",
   "version": "3.7.9"
  }
 },
 "nbformat": 4,
 "nbformat_minor": 4
}
